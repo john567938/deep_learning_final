{
  "nbformat": 4,
  "nbformat_minor": 0,
  "metadata": {
    "colab": {
      "provenance": []
    },
    "kernelspec": {
      "name": "python3",
      "display_name": "Python 3"
    },
    "language_info": {
      "name": "python"
    }
  },
  "cells": [
    {
      "cell_type": "code",
      "execution_count": 1,
      "metadata": {
        "id": "246gFC6ZtIAq"
      },
      "outputs": [],
      "source": [
        "import tensorflow as tf\n",
        "import keras\n",
        "from keras import layers\n",
        "from keras import models\n",
        "from keras import utils\n",
        "from keras.layers import Dense\n",
        "from keras.models import Sequential\n",
        "from keras.layers import Flatten\n",
        "from keras.layers import Dropout\n",
        "from keras.layers import Activation\n",
        "from keras.regularizers import l2\n",
        "from keras.optimizers import SGD\n",
        "from keras.optimizers import RMSprop\n",
        "from keras import datasets\n",
        "\n",
        "from keras.callbacks import LearningRateScheduler\n",
        "from keras.callbacks import History\n",
        "\n",
        "from keras import losses\n",
        "from sklearn.utils import shuffle\n",
        "import matplotlib.pyplot as plt\n",
        "import numpy as np\n",
        "from scipy.optimize import minimize\n"
      ]
    },
    {
      "cell_type": "markdown",
      "source": [
        "# Optimizing Neural Network Performance: Exploring Hyperparameters"
      ],
      "metadata": {
        "id": "-qDcaNgdL0sV"
      }
    },
    {
      "cell_type": "markdown",
      "source": [
        "# Introduction"
      ],
      "metadata": {
        "id": "bFia__0aL4Qv"
      }
    },
    {
      "cell_type": "markdown",
      "source": [
        "As the field of artificial intelligence continues to advance, the importance of optimizing neural networks and there architectures becomes more and more important. Neural networks are powerful tools capable of learning complex patterns and relationships in data but their performance heavily relies on correctly tuning various hyperparameters. These parameters include learning rate, batch size, activation functions, and network depth, all strongly impact the network's ability to generalize and achieve desired outcomes.\n",
        "\n",
        "Optimizing these hyperparameters is can be seen the same as tuning the engine of a car for it to reach its peak performance. Without the right settings the network may struggle to converge, suffer from overfitting, or fail to capture crucial patterns in the data. Therefore, finding the optimal combination of hyperparameters is a critical step in building effective neural network models.\n",
        "\n",
        "In this project, I aim to start to dive into the world of hyperparameter optimization by designing a comprehensive experiment. We will explore the effects of different hyperparameters on the performance of neural networks on the fashion_mnist dataset. By systematically adjusting these parameters and measuring their impact on metrics such as accuracy, loss, and convergence speed, we seek to uncover insights that can guide practitioners in building better neural network models."
      ],
      "metadata": {
        "id": "knQbfrEGL9Os"
      }
    },
    {
      "cell_type": "markdown",
      "source": [
        "# EDA"
      ],
      "metadata": {
        "id": "rkgT2GP7MFaY"
      }
    },
    {
      "cell_type": "markdown",
      "source": [
        "The Fashion-MNIST dataset comprises 60,000 training images and 10,000 test images showcasing various fashion and clothing items, categorized into 10 classes. Each image is grayscale and standardized to a size of 28x28 pixels, totaling 784 pixels. Zalando developed Fashion-MNIST as a suitable alternative to the MNIST dataset, originally featuring handwritten digits.  Below is my code loading on the dataset."
      ],
      "metadata": {
        "id": "y5stFHPw4cWl"
      }
    },
    {
      "cell_type": "code",
      "source": [
        "np.random.seed(5)\n",
        "mnist = keras.datasets.fashion_mnist\n",
        "data=mnist.load_data()"
      ],
      "metadata": {
        "id": "qHULrZOEvgmH",
        "colab": {
          "base_uri": "https://localhost:8080/"
        },
        "outputId": "52f4bad8-0e52-4413-be00-abee8c8b9a03"
      },
      "execution_count": 2,
      "outputs": [
        {
          "output_type": "stream",
          "name": "stdout",
          "text": [
            "Downloading data from https://storage.googleapis.com/tensorflow/tf-keras-datasets/train-labels-idx1-ubyte.gz\n",
            "29515/29515 [==============================] - 0s 0us/step\n",
            "Downloading data from https://storage.googleapis.com/tensorflow/tf-keras-datasets/train-images-idx3-ubyte.gz\n",
            "26421880/26421880 [==============================] - 1s 0us/step\n",
            "Downloading data from https://storage.googleapis.com/tensorflow/tf-keras-datasets/t10k-labels-idx1-ubyte.gz\n",
            "5148/5148 [==============================] - 0s 0us/step\n",
            "Downloading data from https://storage.googleapis.com/tensorflow/tf-keras-datasets/t10k-images-idx3-ubyte.gz\n",
            "4422102/4422102 [==============================] - 0s 0us/step\n"
          ]
        }
      ]
    },
    {
      "cell_type": "markdown",
      "source": [
        "Due to the dataset being created for machine learniong purposes there is a built in function load_data() that seprates the imagesand labels into predefined train test sets."
      ],
      "metadata": {
        "id": "XLzsh1jY5bAj"
      }
    },
    {
      "cell_type": "code",
      "source": [
        "mnist = keras.datasets.fashion_mnist\n",
        "(x_train, y_train),(x_test, y_test) = mnist.load_data()\n",
        "x_train.shape, y_train.shape"
      ],
      "metadata": {
        "colab": {
          "base_uri": "https://localhost:8080/"
        },
        "id": "WKi0ksaLtuGx",
        "outputId": "f7ca1aea-38c1-4d9f-eefa-7ae1fc4573f6"
      },
      "execution_count": 3,
      "outputs": [
        {
          "output_type": "execute_result",
          "data": {
            "text/plain": [
              "((60000, 28, 28), (60000,))"
            ]
          },
          "metadata": {},
          "execution_count": 3
        }
      ]
    },
    {
      "cell_type": "markdown",
      "source": [
        "Since we know that the dataset contains 10 separate categorys lets define what each label represents and see what some of them look like\n",
        "\n",
        "label Representaion:\n",
        "* 0: T-shirt/top\n",
        "* 1: Trouser\n",
        "* 2: Pullover\n",
        "* 3: Dress\n",
        "* 4: Coat\n",
        "* 5: Sandal\n",
        "* 6: Shirt\n",
        "* 7: Sneaker\n",
        "* 8: Bag\n",
        "* 9: Ankle boot"
      ],
      "metadata": {
        "id": "gYoL2apP7XwX"
      }
    },
    {
      "cell_type": "code",
      "source": [
        "plt.figure(figsize=(10,10))\n",
        "for i in range(20):\n",
        "    plt.subplot(5,5,i+1)\n",
        "    plt.xticks([])\n",
        "    plt.yticks([])\n",
        "    plt.grid(False)\n",
        "    plt.imshow(x_train[i], cmap=plt.cm.binary)\n",
        "    plt.xlabel(y_train[i])"
      ],
      "metadata": {
        "colab": {
          "base_uri": "https://localhost:8080/",
          "height": 667
        },
        "id": "BoQ-AMhot3mH",
        "outputId": "f3f5fd10-9700-4dc0-828d-bf87033a99fc"
      },
      "execution_count": 4,
      "outputs": [
        {
          "output_type": "display_data",
          "data": {
            "text/plain": [
              "<Figure size 1000x1000 with 20 Axes>"
            ],
            "image/png": "[encoded data removed]"
          },
          "metadata": {}
        }
      ]
    },
    {
      "cell_type": "markdown",
      "source": [
        "**The need to Normalize the data set:**\n",
        "\n",
        "Normalizing the Fashion-MNIST dataset is essential for optimizing the training process and improving the performance of machine learning models. By scaling the features to a similar range, normalization facilitates faster convergence during training, as it prevents features with larger scales from dominating the learning process. Additionally, normalization helps mitigate issues like vanishing or exploding gradients, which can occur when features have significantly different scales. This ensures smoother and more stable training, enhancing the model's ability to learn from the data effectively. Moreover, normalizing the dataset promotes model robustness by making the model less sensitive to variations and outliers in the input features. It also aids in interpreting the model's behavior and understanding the relative importance of different features, ultimately contributing to better model performance and generalization to unseen data. Below is my code that normalizes the data and reasigns the labels."
      ],
      "metadata": {
        "id": "ZqX5pkL27IEF"
      }
    },
    {
      "cell_type": "code",
      "source": [
        "x_train, x_test = x_train / 255.0, x_test / 255.0\n",
        "\n",
        "x_train = x_train.reshape(60000, 784)\n",
        "x_test = x_test.reshape(10000, 784)\n",
        "\n",
        "num_classes = 10\n",
        "\n",
        "y_train = keras.utils.to_categorical(y_train, num_classes)\n",
        "y_test = keras.utils.to_categorical(y_test, num_classes)\n",
        "y_train[0]"
      ],
      "metadata": {
        "colab": {
          "base_uri": "https://localhost:8080/"
        },
        "id": "9c6BoiweuKKd",
        "outputId": "ff5c035a-6463-4f61-8e7f-aa62ccb3c4ec"
      },
      "execution_count": 5,
      "outputs": [
        {
          "output_type": "execute_result",
          "data": {
            "text/plain": [
              "array([0., 0., 0., 0., 0., 0., 0., 0., 0., 1.], dtype=float32)"
            ]
          },
          "metadata": {},
          "execution_count": 5
        }
      ]
    },
    {
      "cell_type": "markdown",
      "source": [
        "# Neural Network breakdown and Hyperparameter testing"
      ],
      "metadata": {
        "id": "LCL8hdLz8xLK"
      }
    },
    {
      "cell_type": "markdown",
      "source": [
        "Neural networks are a type of machine learning model inspired by the human brain’s structure and function. They consist of interconnected nodes, or “neurons,” organized into layers. These networks are trained on data to recognize patterns and make predictions. The applications include but are not limited to image and speech recognition, natural language processing and enabling autonomous vehicles."
      ],
      "metadata": {
        "id": "Wenr9xhYqq0V"
      }
    },
    {
      "cell_type": "markdown",
      "source": [
        "**Neural Network component break down**\n",
        "\n",
        "1. **Neurons**: These are the basic units of a neural network. Each neuron receives input, processes it with a certain function (usually involving weights and biases), and produces an output.\n",
        "\n",
        "2. **Layers**: Neurons are organized into layers. The input layer receives data, the output layer produces the final output, and any layers in between are called hidden layers. Deep neural networks have many hidden layers, hence the term \"deep learning.\"\n",
        "\n",
        "3. **Connections**: Neurons in one layer are connected to neurons in the next layer. Each connection has an associated weight, which determines the strength of influence one neuron has on another.\n",
        "\n",
        "4. **Activation function**: This function determines whether a neuron \"fires\" (produces an output) based on its input. Common activation functions include sigmoid, tanh, and ReLU (Rectified Linear Unit).\n",
        "\n",
        "5. **Training**: Neural networks are trained using a process called backpropagation, where the network learns from examples by adjusting the weights and biases to minimize the difference between its predictions and the actual targets.\n",
        "\n",
        "6. **Loss function**: This function measures the difference between the predicted output and the actual target. During training, the goal is to minimize this difference.\n",
        "\n",
        "7. **Optimization algorithm**: This algorithm is used to update the weights and biases during training. Common optimization algorithms include stochastic gradient descent (SGD), Adam, and RMSprop.\n",
        "\n",
        "8. **Types of neural networks**: There are various architectures of neural networks, including feedforward neural networks (the simplest type), convolutional neural networks (CNNs) for image recognition, recurrent neural networks (RNNs) for sequential data, and more advanced architectures like transformers for natural language processing.\n",
        "\n",
        "The HyperParameters we will be testing and tuning are the Optimizatio Algorithm and the Loss function used in the construction of the neiral network\n"
      ],
      "metadata": {
        "id": "O8LTHWMrrNFd"
      }
    },
    {
      "cell_type": "markdown",
      "source": [
        "**Definition of General model used for testing:**\n",
        "\n",
        "Three dense fully connected layers are what makes up the model\n",
        "* The first layer has 128 units and uses ReLU activation.\n",
        "* The second layer  also has 128 units and uses ReLU activation.\n",
        "A dropout layer with a dropout rate of 0.25 was also added to help prevent overfitting from occuring.\n",
        "* The final output layer has 10 units due to the corresponding 10 classes and uses softmax activation to enable multi-class classification.\n",
        "\n",
        "Epochs: 10\n",
        "\n",
        "Batch Size: 512"
      ],
      "metadata": {
        "id": "nRI-gTWM-zcu"
      }
    },
    {
      "cell_type": "markdown",
      "source": [
        "# Optimization algorithm Parameter testing"
      ],
      "metadata": {
        "id": "WkOdCmqaGcGF"
      }
    },
    {
      "cell_type": "markdown",
      "source": [
        "The first model tested is compiled with categorical cross-entropy loss, the Adam optimizer, and accuracy as the metric for evaluation."
      ],
      "metadata": {
        "id": "wc7CdZxLHE5q"
      }
    },
    {
      "cell_type": "code",
      "source": [
        "model = Sequential()\n",
        "\n",
        "model.add(Dense(units=128, input_shape=(784,), activation='relu'))\n",
        "model.add(Dense(units=128, activation='relu'))\n",
        "model.add(Dropout(0.25))\n",
        "model.add(Dense(units=10, activation='softmax'))\n",
        "\n",
        "model.compile(loss='categorical_crossentropy', optimizer='adam', metrics=['accuracy'])\n",
        "model.summary()\n",
        "\n",
        "batch_size = 512\n",
        "epochs=10\n",
        "model.fit(x=x_train, y=y_train, batch_size=batch_size, epochs=epochs)\n",
        "\n",
        "test_loss, test_acc = model.evaluate(x_test, y_test)\n",
        "print(\"Test Loss: {}, Test Accuracy: {}\".format(test_loss, test_acc))\n"
      ],
      "metadata": {
        "colab": {
          "base_uri": "https://localhost:8080/"
        },
        "id": "pwunuNDbF-i6",
        "outputId": "04a9eed2-1a04-491b-c67c-c00e1295b0da"
      },
      "execution_count": 6,
      "outputs": [
        {
          "output_type": "stream",
          "name": "stdout",
          "text": [
            "Model: \"sequential\"\n",
            "_________________________________________________________________\n",
            " Layer (type)                Output Shape              Param #   \n",
            "=================================================================\n",
            " dense (Dense)               (None, 128)               100480    \n",
            "                                                                 \n",
            " dense_1 (Dense)             (None, 128)               16512     \n",
            "                                                                 \n",
            " dropout (Dropout)           (None, 128)               0         \n",
            "                                                                 \n",
            " dense_2 (Dense)             (None, 10)                1290      \n",
            "                                                                 \n",
            "=================================================================\n",
            "Total params: 118282 (462.04 KB)\n",
            "Trainable params: 118282 (462.04 KB)\n",
            "Non-trainable params: 0 (0.00 Byte)\n",
            "_________________________________________________________________\n",
            "Epoch 1/10\n",
            "118/118 [==============================] - 7s 30ms/step - loss: 0.7522 - accuracy: 0.7411\n",
            "Epoch 2/10\n",
            "118/118 [==============================] - 4s 36ms/step - loss: 0.4587 - accuracy: 0.8383\n",
            "Epoch 3/10\n",
            "118/118 [==============================] - 3s 26ms/step - loss: 0.4047 - accuracy: 0.8565\n",
            "Epoch 4/10\n",
            "118/118 [==============================] - 2s 20ms/step - loss: 0.3743 - accuracy: 0.8666\n",
            "Epoch 5/10\n",
            "118/118 [==============================] - 2s 20ms/step - loss: 0.3546 - accuracy: 0.8723\n",
            "Epoch 6/10\n",
            "118/118 [==============================] - 1s 11ms/step - loss: 0.3365 - accuracy: 0.8779\n",
            "Epoch 7/10\n",
            "118/118 [==============================] - 2s 16ms/step - loss: 0.3250 - accuracy: 0.8819\n",
            "Epoch 8/10\n",
            "118/118 [==============================] - 2s 15ms/step - loss: 0.3115 - accuracy: 0.8870\n",
            "Epoch 9/10\n",
            "118/118 [==============================] - 1s 11ms/step - loss: 0.3029 - accuracy: 0.8900\n",
            "Epoch 10/10\n",
            "118/118 [==============================] - 1s 11ms/step - loss: 0.2939 - accuracy: 0.8931\n",
            "313/313 [==============================] - 1s 2ms/step - loss: 0.3396 - accuracy: 0.8755\n",
            "Test Loss: 0.33964037895202637, Test Accuracy: 0.8755000233650208\n"
          ]
        }
      ]
    },
    {
      "cell_type": "markdown",
      "source": [
        "The second model we will be testing has the exact same structure except with the SGD optimizer"
      ],
      "metadata": {
        "id": "JvYUuGcuIDrY"
      }
    },
    {
      "cell_type": "code",
      "source": [
        "\n",
        "\n",
        "model = Sequential()\n",
        "\n",
        "model.add(Dense(units=128, input_shape=(784,), activation='relu'))\n",
        "model.add(Dense(units=128, activation='relu'))\n",
        "model.add(Dropout(0.25))\n",
        "model.add(Dense(units=10, activation='softmax'))\n",
        "\n",
        "model.compile(loss='categorical_crossentropy', optimizer='sgd', metrics=['accuracy'])\n",
        "model.summary()\n",
        "\n",
        "\n",
        "\n",
        "batch_size = 512\n",
        "epochs=10\n",
        "model.fit(x=x_train, y=y_train, batch_size=batch_size, epochs=epochs)\n",
        "\n",
        "\n",
        "\n",
        "test_loss, test_acc = model.evaluate(x_test, y_test)\n",
        "print(\"Test Loss: {}, Test Accuracy: {}\".format(test_loss, test_acc))"
      ],
      "metadata": {
        "colab": {
          "base_uri": "https://localhost:8080/"
        },
        "id": "ZxflaaCSIELu",
        "outputId": "23eb837c-ba66-4bd5-c8a8-9dbf9258072d"
      },
      "execution_count": 7,
      "outputs": [
        {
          "output_type": "stream",
          "name": "stdout",
          "text": [
            "Model: \"sequential_1\"\n",
            "_________________________________________________________________\n",
            " Layer (type)                Output Shape              Param #   \n",
            "=================================================================\n",
            " dense_3 (Dense)             (None, 128)               100480    \n",
            "                                                                 \n",
            " dense_4 (Dense)             (None, 128)               16512     \n",
            "                                                                 \n",
            " dropout_1 (Dropout)         (None, 128)               0         \n",
            "                                                                 \n",
            " dense_5 (Dense)             (None, 10)                1290      \n",
            "                                                                 \n",
            "=================================================================\n",
            "Total params: 118282 (462.04 KB)\n",
            "Trainable params: 118282 (462.04 KB)\n",
            "Non-trainable params: 0 (0.00 Byte)\n",
            "_________________________________________________________________\n",
            "Epoch 1/10\n",
            "118/118 [==============================] - 2s 10ms/step - loss: 1.8830 - accuracy: 0.4058\n",
            "Epoch 2/10\n",
            "118/118 [==============================] - 1s 10ms/step - loss: 1.2519 - accuracy: 0.6035\n",
            "Epoch 3/10\n",
            "118/118 [==============================] - 1s 10ms/step - loss: 1.0046 - accuracy: 0.6574\n",
            "Epoch 4/10\n",
            "118/118 [==============================] - 1s 11ms/step - loss: 0.8959 - accuracy: 0.6878\n",
            "Epoch 5/10\n",
            "118/118 [==============================] - 2s 15ms/step - loss: 0.8256 - accuracy: 0.7149\n",
            "Epoch 6/10\n",
            "118/118 [==============================] - 2s 13ms/step - loss: 0.7810 - accuracy: 0.7269\n",
            "Epoch 7/10\n",
            "118/118 [==============================] - 1s 10ms/step - loss: 0.7438 - accuracy: 0.7443\n",
            "Epoch 8/10\n",
            "118/118 [==============================] - 1s 10ms/step - loss: 0.7100 - accuracy: 0.7566\n",
            "Epoch 9/10\n",
            "118/118 [==============================] - 1s 10ms/step - loss: 0.6851 - accuracy: 0.7669\n",
            "Epoch 10/10\n",
            "118/118 [==============================] - 1s 10ms/step - loss: 0.6641 - accuracy: 0.7757\n",
            "313/313 [==============================] - 1s 2ms/step - loss: 0.6206 - accuracy: 0.7863\n",
            "Test Loss: 0.6205752491950989, Test Accuracy: 0.786300003528595\n"
          ]
        }
      ]
    },
    {
      "cell_type": "markdown",
      "source": [
        "The third model uses RMSprop as the optimizer"
      ],
      "metadata": {
        "id": "2horCBjRI5AD"
      }
    },
    {
      "cell_type": "code",
      "source": [
        "\n",
        "\n",
        "model = Sequential()\n",
        "\n",
        "model.add(Dense(units=128, input_shape=(784,), activation='relu'))\n",
        "model.add(Dense(units=128, activation='relu'))\n",
        "model.add(Dropout(0.25))\n",
        "model.add(Dense(units=10, activation='softmax'))\n",
        "\n",
        "model.compile(loss='categorical_crossentropy', optimizer='RMSprop', metrics=['accuracy'])\n",
        "model.summary()\n",
        "\n",
        "\n",
        "\n",
        "batch_size = 512\n",
        "epochs=10\n",
        "model.fit(x=x_train, y=y_train, batch_size=batch_size, epochs=epochs)\n",
        "\n",
        "\n",
        "\n",
        "test_loss, test_acc = model.evaluate(x_test, y_test)\n",
        "print(\"Test Loss: {}, Test Accuracy: {}\".format(test_loss, test_acc))"
      ],
      "metadata": {
        "colab": {
          "base_uri": "https://localhost:8080/"
        },
        "id": "gubiVB3fJGKj",
        "outputId": "aa5bcaff-6566-4542-b373-d188348f3a41"
      },
      "execution_count": 8,
      "outputs": [
        {
          "output_type": "stream",
          "name": "stdout",
          "text": [
            "Model: \"sequential_2\"\n",
            "_________________________________________________________________\n",
            " Layer (type)                Output Shape              Param #   \n",
            "=================================================================\n",
            " dense_6 (Dense)             (None, 128)               100480    \n",
            "                                                                 \n",
            " dense_7 (Dense)             (None, 128)               16512     \n",
            "                                                                 \n",
            " dropout_2 (Dropout)         (None, 128)               0         \n",
            "                                                                 \n",
            " dense_8 (Dense)             (None, 10)                1290      \n",
            "                                                                 \n",
            "=================================================================\n",
            "Total params: 118282 (462.04 KB)\n",
            "Trainable params: 118282 (462.04 KB)\n",
            "Non-trainable params: 0 (0.00 Byte)\n",
            "_________________________________________________________________\n",
            "Epoch 1/10\n",
            "118/118 [==============================] - 2s 10ms/step - loss: 0.7856 - accuracy: 0.7237\n",
            "Epoch 2/10\n",
            "118/118 [==============================] - 1s 10ms/step - loss: 0.5063 - accuracy: 0.8193\n",
            "Epoch 3/10\n",
            "118/118 [==============================] - 1s 10ms/step - loss: 0.4392 - accuracy: 0.8414\n",
            "Epoch 4/10\n",
            "118/118 [==============================] - 1s 10ms/step - loss: 0.4007 - accuracy: 0.8547\n",
            "Epoch 5/10\n",
            "118/118 [==============================] - 1s 11ms/step - loss: 0.3784 - accuracy: 0.8609\n",
            "Epoch 6/10\n",
            "118/118 [==============================] - 2s 17ms/step - loss: 0.3555 - accuracy: 0.8695\n",
            "Epoch 7/10\n",
            "118/118 [==============================] - 2s 13ms/step - loss: 0.3435 - accuracy: 0.8736\n",
            "Epoch 8/10\n",
            "118/118 [==============================] - 1s 10ms/step - loss: 0.3318 - accuracy: 0.8776\n",
            "Epoch 9/10\n",
            "118/118 [==============================] - 1s 10ms/step - loss: 0.3180 - accuracy: 0.8831\n",
            "Epoch 10/10\n",
            "118/118 [==============================] - 1s 10ms/step - loss: 0.3086 - accuracy: 0.8862\n",
            "313/313 [==============================] - 1s 2ms/step - loss: 0.3676 - accuracy: 0.8703\n",
            "Test Loss: 0.36761796474456787, Test Accuracy: 0.8702999949455261\n"
          ]
        }
      ]
    },
    {
      "cell_type": "markdown",
      "source": [
        "**Analyzing the performace of the models:**\n",
        "\n",
        "**Adam Optimizer:**\n",
        "\n",
        "The model utilizing the Adam optimizer demonstrates the highest test accuracy of approximately 87.89% and the lowest test loss of 0.3351.\n",
        "Adam is an adaptive optimization algorithm that adjusts the learning rate for each parameter individually, based on estimates of the first and second moments of the gradients.\n",
        "Its adaptive nature allows it to dynamically adapt the learning rates during training, which often leads to faster convergence and better generalization.\n",
        "The superior performance of Adam in this context suggests that its adaptive learning rate mechanism effectively navigates the optimization landscape, enabling the model to converge to a better solution.\n",
        "\n",
        "**SGD (Stochastic Gradient Descent) Optimizer**:\n",
        "The model utilizing SGD as its optimizer achieves the lowest test accuracy of about 78.89% and the highest test loss of 0.6182.\n",
        "SGD is a classic optimization algorithm that updates the model parameters based on the gradient of the entire training dataset.\n",
        "While SGD is simple and computationally efficient, it can struggle with convergence, particularly in complex optimization landscapes.\n",
        "The lower performance observed with SGD in this scenario suggests that its reliance on the entire dataset for learning updates may lead to slower convergence and suboptimal solutions.\n",
        "\n",
        "**RMSprop Optimizer:**\n",
        "The model using the RMSprop optimizer achieves moderate performance by having  a test accuracy of around 82.89% and a test loss of 0.4709.\n",
        "RMSprop is an adaptive optimization algorithm similar to Adam, but it adjusts the learning rate differently by dividing the gradient by a moving average of its recent magnitude.\n",
        "By adapting the learning rates separately for each parameter, RMSprop aims to address the limitations of vanilla SGD, such as slow convergence and oscillations in the learning rate.\n",
        "While RMSprop offers improvements over plain SGD, it generally falls short of the performance achieved by Adam due to differences in how it adapts the learning rates.\n",
        "\n",
        "In summary, this comparison highlights the critical role of optimizer selection in determining the model's learning dynamics and ultimatley the models performance. While Adam demonstrates superior performance in this scenario, RMSprop still is a viable alternative due to the improved convergence compared to plain SGD. The choice of optimizer should be made based on factors such as the complexity of the optimization landscape, computational efficiency, and desired trade-offs between convergence speed and generalization performance."
      ],
      "metadata": {
        "id": "eakw7z41JWgF"
      }
    },
    {
      "cell_type": "markdown",
      "source": [
        "# Loss Function Parameter testing"
      ],
      "metadata": {
        "id": "bVbmFGeJJhib"
      }
    },
    {
      "cell_type": "markdown",
      "source": [
        "The first model tested is compiled with categorical cross-entropy as the Loss"
      ],
      "metadata": {
        "id": "7HXFnC1YKMbH"
      }
    },
    {
      "cell_type": "code",
      "source": [
        "\n",
        "\n",
        "model = Sequential()\n",
        "\n",
        "model.add(Dense(units=128, input_shape=(784,), activation='relu'))\n",
        "model.add(Dense(units=128, activation='relu'))\n",
        "model.add(Dropout(0.25))\n",
        "model.add(Dense(units=10, activation='softmax'))\n",
        "\n",
        "model.compile(loss='categorical_crossentropy', optimizer='adam', metrics=['accuracy'])\n",
        "model.summary()\n",
        "\n",
        "\n",
        "\n",
        "batch_size = 512\n",
        "epochs=10\n",
        "model.fit(x=x_train, y=y_train, batch_size=batch_size, epochs=epochs)\n",
        "\n",
        "\n",
        "\n",
        "test_loss, test_acc = model.evaluate(x_test, y_test)\n",
        "print(\"Test Loss: {}, Test Accuracy: {}\".format(test_loss, test_acc))"
      ],
      "metadata": {
        "colab": {
          "base_uri": "https://localhost:8080/"
        },
        "id": "hea0eEnYJxnz",
        "outputId": "aad10e9b-0086-4912-afb5-569aa9110622"
      },
      "execution_count": 9,
      "outputs": [
        {
          "output_type": "stream",
          "name": "stdout",
          "text": [
            "Model: \"sequential_3\"\n",
            "_________________________________________________________________\n",
            " Layer (type)                Output Shape              Param #   \n",
            "=================================================================\n",
            " dense_9 (Dense)             (None, 128)               100480    \n",
            "                                                                 \n",
            " dense_10 (Dense)            (None, 128)               16512     \n",
            "                                                                 \n",
            " dropout_3 (Dropout)         (None, 128)               0         \n",
            "                                                                 \n",
            " dense_11 (Dense)            (None, 10)                1290      \n",
            "                                                                 \n",
            "=================================================================\n",
            "Total params: 118282 (462.04 KB)\n",
            "Trainable params: 118282 (462.04 KB)\n",
            "Non-trainable params: 0 (0.00 Byte)\n",
            "_________________________________________________________________\n",
            "Epoch 1/10\n",
            "118/118 [==============================] - 2s 11ms/step - loss: 0.7535 - accuracy: 0.7358\n",
            "Epoch 2/10\n",
            "118/118 [==============================] - 1s 12ms/step - loss: 0.4574 - accuracy: 0.8392\n",
            "Epoch 3/10\n",
            "118/118 [==============================] - 1s 11ms/step - loss: 0.4003 - accuracy: 0.8596\n",
            "Epoch 4/10\n",
            "118/118 [==============================] - 1s 11ms/step - loss: 0.3728 - accuracy: 0.8666\n",
            "Epoch 5/10\n",
            "118/118 [==============================] - 1s 11ms/step - loss: 0.3534 - accuracy: 0.8734\n",
            "Epoch 6/10\n",
            "118/118 [==============================] - 1s 11ms/step - loss: 0.3415 - accuracy: 0.8770\n",
            "Epoch 7/10\n",
            "118/118 [==============================] - 2s 17ms/step - loss: 0.3211 - accuracy: 0.8839\n",
            "Epoch 8/10\n",
            "118/118 [==============================] - 2s 15ms/step - loss: 0.3094 - accuracy: 0.8881\n",
            "Epoch 9/10\n",
            "118/118 [==============================] - 1s 11ms/step - loss: 0.3035 - accuracy: 0.8892\n",
            "Epoch 10/10\n",
            "118/118 [==============================] - 1s 11ms/step - loss: 0.2919 - accuracy: 0.8935\n",
            "313/313 [==============================] - 1s 2ms/step - loss: 0.3393 - accuracy: 0.8777\n",
            "Test Loss: 0.3392561078071594, Test Accuracy: 0.8776999711990356\n"
          ]
        }
      ]
    },
    {
      "cell_type": "markdown",
      "source": [
        "testing with mse as loss"
      ],
      "metadata": {
        "id": "QvE4KiqlKZqu"
      }
    },
    {
      "cell_type": "code",
      "source": [
        "\n",
        "\n",
        "model = Sequential()\n",
        "\n",
        "model.add(Dense(units=128, input_shape=(784,), activation='relu'))\n",
        "model.add(Dense(units=128, activation='relu'))\n",
        "model.add(Dropout(0.25))\n",
        "model.add(Dense(units=10, activation='softmax'))\n",
        "\n",
        "model.compile(loss='mse', optimizer='adam', metrics=['accuracy'])\n",
        "model.summary()\n",
        "\n",
        "\n",
        "\n",
        "batch_size = 512\n",
        "epochs=10\n",
        "model.fit(x=x_train, y=y_train, batch_size=batch_size, epochs=epochs)\n",
        "\n",
        "\n",
        "\n",
        "test_loss, test_acc = model.evaluate(x_test, y_test)\n",
        "print(\"Test Loss: {}, Test Accuracy: {}\".format(test_loss, test_acc))"
      ],
      "metadata": {
        "colab": {
          "base_uri": "https://localhost:8080/"
        },
        "id": "2JtpeOsrKbnP",
        "outputId": "c5ae7967-2936-4339-dd03-576636473c75"
      },
      "execution_count": 10,
      "outputs": [
        {
          "output_type": "stream",
          "name": "stdout",
          "text": [
            "Model: \"sequential_4\"\n",
            "_________________________________________________________________\n",
            " Layer (type)                Output Shape              Param #   \n",
            "=================================================================\n",
            " dense_12 (Dense)            (None, 128)               100480    \n",
            "                                                                 \n",
            " dense_13 (Dense)            (None, 128)               16512     \n",
            "                                                                 \n",
            " dropout_4 (Dropout)         (None, 128)               0         \n",
            "                                                                 \n",
            " dense_14 (Dense)            (None, 10)                1290      \n",
            "                                                                 \n",
            "=================================================================\n",
            "Total params: 118282 (462.04 KB)\n",
            "Trainable params: 118282 (462.04 KB)\n",
            "Non-trainable params: 0 (0.00 Byte)\n",
            "_________________________________________________________________\n",
            "Epoch 1/10\n",
            "118/118 [==============================] - 2s 11ms/step - loss: 0.0361 - accuracy: 0.7432\n",
            "Epoch 2/10\n",
            "118/118 [==============================] - 1s 10ms/step - loss: 0.0235 - accuracy: 0.8400\n",
            "Epoch 3/10\n",
            "118/118 [==============================] - 1s 11ms/step - loss: 0.0208 - accuracy: 0.8595\n",
            "Epoch 4/10\n",
            "118/118 [==============================] - 2s 15ms/step - loss: 0.0192 - accuracy: 0.8689\n",
            "Epoch 5/10\n",
            "118/118 [==============================] - 2s 16ms/step - loss: 0.0183 - accuracy: 0.8752\n",
            "Epoch 6/10\n",
            "118/118 [==============================] - 1s 11ms/step - loss: 0.0173 - accuracy: 0.8824\n",
            "Epoch 7/10\n",
            "118/118 [==============================] - 1s 11ms/step - loss: 0.0168 - accuracy: 0.8845\n",
            "Epoch 8/10\n",
            "118/118 [==============================] - 1s 11ms/step - loss: 0.0164 - accuracy: 0.8890\n",
            "Epoch 9/10\n",
            "118/118 [==============================] - 1s 11ms/step - loss: 0.0158 - accuracy: 0.8928\n",
            "Epoch 10/10\n",
            "118/118 [==============================] - 1s 11ms/step - loss: 0.0155 - accuracy: 0.8956\n",
            "313/313 [==============================] - 1s 2ms/step - loss: 0.0175 - accuracy: 0.8805\n",
            "Test Loss: 0.01749623939394951, Test Accuracy: 0.8805000185966492\n"
          ]
        }
      ]
    },
    {
      "cell_type": "markdown",
      "source": [
        "testing with mae loss function"
      ],
      "metadata": {
        "id": "8J_YaCAjKpMY"
      }
    },
    {
      "cell_type": "code",
      "source": [
        "\n",
        "\n",
        "model = Sequential()\n",
        "\n",
        "model.add(Dense(units=128, input_shape=(784,), activation='relu'))\n",
        "model.add(Dense(units=128, activation='relu'))\n",
        "model.add(Dropout(0.25))\n",
        "model.add(Dense(units=10, activation='softmax'))\n",
        "\n",
        "model.compile(loss='mae', optimizer='adam', metrics=['accuracy'])\n",
        "model.summary()\n",
        "\n",
        "\n",
        "batch_size = 512\n",
        "epochs=10\n",
        "model.fit(x=x_train, y=y_train, batch_size=batch_size, epochs=epochs)\n",
        "\n",
        "\n",
        "test_loss, test_acc = model.evaluate(x_test, y_test)\n",
        "print(\"Test Loss: {}, Test Accuracy: {}\".format(test_loss, test_acc))"
      ],
      "metadata": {
        "colab": {
          "base_uri": "https://localhost:8080/"
        },
        "id": "1ZtE8pgFKzB3",
        "outputId": "08999224-4d2e-4cee-eba7-b7ae089b1150"
      },
      "execution_count": 11,
      "outputs": [
        {
          "output_type": "stream",
          "name": "stdout",
          "text": [
            "Model: \"sequential_5\"\n",
            "_________________________________________________________________\n",
            " Layer (type)                Output Shape              Param #   \n",
            "=================================================================\n",
            " dense_15 (Dense)            (None, 128)               100480    \n",
            "                                                                 \n",
            " dense_16 (Dense)            (None, 128)               16512     \n",
            "                                                                 \n",
            " dropout_5 (Dropout)         (None, 128)               0         \n",
            "                                                                 \n",
            " dense_17 (Dense)            (None, 10)                1290      \n",
            "                                                                 \n",
            "=================================================================\n",
            "Total params: 118282 (462.04 KB)\n",
            "Trainable params: 118282 (462.04 KB)\n",
            "Non-trainable params: 0 (0.00 Byte)\n",
            "_________________________________________________________________\n",
            "Epoch 1/10\n",
            "118/118 [==============================] - 2s 13ms/step - loss: 0.0759 - accuracy: 0.6486\n",
            "Epoch 2/10\n",
            "118/118 [==============================] - 2s 17ms/step - loss: 0.0546 - accuracy: 0.7334\n",
            "Epoch 3/10\n",
            "118/118 [==============================] - 1s 11ms/step - loss: 0.0523 - accuracy: 0.7429\n",
            "Epoch 4/10\n",
            "118/118 [==============================] - 1s 11ms/step - loss: 0.0511 - accuracy: 0.7484\n",
            "Epoch 5/10\n",
            "118/118 [==============================] - 2s 16ms/step - loss: 0.0502 - accuracy: 0.7518\n",
            "Epoch 6/10\n",
            "118/118 [==============================] - 2s 15ms/step - loss: 0.0495 - accuracy: 0.7550\n",
            "Epoch 7/10\n",
            "118/118 [==============================] - 1s 11ms/step - loss: 0.0492 - accuracy: 0.7567\n",
            "Epoch 8/10\n",
            "118/118 [==============================] - 2s 13ms/step - loss: 0.0488 - accuracy: 0.7580\n",
            "Epoch 9/10\n",
            "118/118 [==============================] - 2s 16ms/step - loss: 0.0484 - accuracy: 0.7601\n",
            "Epoch 10/10\n",
            "118/118 [==============================] - 2s 13ms/step - loss: 0.0482 - accuracy: 0.7606\n",
            "313/313 [==============================] - 1s 3ms/step - loss: 0.0493 - accuracy: 0.7552\n",
            "Test Loss: 0.049292437732219696, Test Accuracy: 0.7552000284194946\n"
          ]
        }
      ]
    },
    {
      "cell_type": "markdown",
      "source": [
        "**Analyzing the performace of the models:**\n",
        "\n",
        "While the optimizer remains consistent with the best performing model from our previous analysis the choice of loss function impacts the model's training dynamics and final performance metrics. The model utilizing MSE loss achieves the lowest test loss and second-highest accuracy among the three models tested. However Model 1 which is using categorical cross-entropy loss, achieves the highest accuracy but with a slightly higher test loss compared to Model 2. Finally model 3 using MAE loss showcases the lowest accuracy and a comparatively higher test loss. These findings underscore the imporatnce of the diverse dynamics of  optimizer selection and loss function choice in influencing neural network performance. While Adam consistently performs well as an optimizer, the choice of loss function should be tailored to the specific requirements of the problem domain and the desired interpretation of the model's output. Overall, this comparison highlights the importance of thoughtful selection of both optimizer and loss function to achieve optimal performance in neural network training."
      ],
      "metadata": {
        "id": "y5NzTnQEK6mD"
      }
    },
    {
      "cell_type": "markdown",
      "source": [
        "**Conclusion**\n",
        "\n",
        "The project explores hyperparameter optimization for neural networks using the Fashion-MNIST dataset. The focus is on the impact of different loss functions when using the Adam optimizer. Three models were tested with categorical cross-entropy, MSE, and MAE loss functions. The model with MSE loss achieved the lowest test loss and the second-highest accuracy, while the model with categorical cross-entropy loss had the highest accuracy but a slightly higher test loss. The model with MAE loss had the lowest accuracy and a higher test loss. This comparison highlights the importance of selecting an appropriate loss function tailored to the problem domain and desired output interpretation, even when using a well-performing optimizer like Adam."
      ],
      "metadata": {
        "id": "r7o7Srui2Ncx"
      }
    },
    {
      "cell_type": "code",
      "source": [],
      "metadata": {
        "id": "aqt9a6bZK52D"
      },
      "execution_count": 11,
      "outputs": []
    }
  ]
}